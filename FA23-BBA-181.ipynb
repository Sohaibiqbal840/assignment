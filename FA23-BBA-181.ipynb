{
  "cells": [
    {
      "cell_type": "code",
      "execution_count": 1,
      "id": "427e1cf8-f46e-4058-bb5d-c8e8a879cbf6",
      "metadata": {
        "trusted": true
      },
      "outputs": [
        {
          "name": "stdout",
          "output_type": "stream",
          "text": [
            "2\n",
            "4\n",
            "6\n"
          ]
        }
      ],
      "source": [
        "def print_even_numbers(numbers):\n",
        "    for number in numbers:\n",
        "        if number % 2 == 0:\n",
        "            print(number)\n",
        "\n",
        "print_even_numbers([1, 2, 3, 4, 5, 6])\n"
      ]
    },
    {
      "cell_type": "code",
      "execution_count": null,
      "id": "9f1acf44-29d8-4a35-92e8-2e4c9eb3ed9c",
      "metadata": {
        "trusted": true
      },
      "outputs": [
        {
          "name": "stdout",
          "output_type": "stream",
          "text": [
            "Hello, Tayyab Khalid! You are 20 years old.\n"
          ]
        }
      ],
      "source": [
        "def greet(name, age):\n",
        "    return f\"Hello, {name}! You are {age} years old.\"\n",
        "\n",
        "# Call with positional arguments\n",
        "print(greet(\"Sohaib Iqbal\", 20))\n"
      ]
    },
    {
      "cell_type": "code",
      "execution_count": null,
      "id": "441f01f5-289f-4408-b270-0c1c2cbf5491",
      "metadata": {
        "trusted": true
      },
      "outputs": [
        {
          "name": "stdout",
          "output_type": "stream",
          "text": [
            "Hello, TAYYAB! You are 20 years old.\n"
          ]
        }
      ],
      "source": [
        "def greet(name, age):\n",
        "    return f\"Hello, {name}! You are {age} years old.\"\n",
        "\n",
        "# Call with keyword arguments\n",
        "print(greet(age=20, name=\"Sohaib Iqbal\"))\n"
      ]
    },
    {
      "cell_type": "code",
      "execution_count": 2,
      "id": "709c6616-5735-42e9-a43b-fc16dc44cdfa",
      "metadata": {
        "trusted": true
      },
      "outputs": [
        {
          "name": "stdout",
          "output_type": "stream",
          "text": [
            "I have a dog named Izzy.\n",
            "I have a Cat named Bella.\n"
          ]
        }
      ],
      "source": [
        "def describe_pet(pet_name, animal_type=\"dog\"):\n",
        "    return f\"I have a {animal_type} named {pet_name}.\"\n",
        "\n",
        "print(describe_pet(\"Izzy\"))\n",
        "print(describe_pet(\"Bella\", \"Cat\"))\n"
      ]
    },
    {
      "cell_type": "code",
      "execution_count": 3,
      "id": "f0754f2f-7981-42a7-a113-54ea783a8ede",
      "metadata": {
        "trusted": true
      },
      "outputs": [
        {
          "name": "stdout",
          "output_type": "stream",
          "text": [
            "The square is: 100\n"
          ]
        }
      ],
      "source": [
        "def square(num):\n",
        "    return num * num\n",
        "\n",
        "result = square(10)\n",
        "print(\"The square is:\", result)\n"
      ]
    },
    {
      "cell_type": "code",
      "execution_count": 4,
      "id": "710517ab-67c1-4ecb-9d43-9b015096ee51",
      "metadata": {
        "trusted": true
      },
      "outputs": [
        {
          "name": "stdout",
          "output_type": "stream",
          "text": [
            "Area of circle: 95.03317777109125\n"
          ]
        }
      ],
      "source": [
        "import math\n",
        "\n",
        "def circle_area(radius):\n",
        "    return math.pi * radius ** 2\n",
        "\n",
        "print(\"Area of circle:\", circle_area(5.5))\n"
      ]
    },
    {
      "cell_type": "code",
      "execution_count": 6,
      "id": "786771dc-dc89-4ace-a46f-7d389af78aef",
      "metadata": {
        "trusted": true
      },
      "outputs": [
        {
          "name": "stdout",
          "output_type": "stream",
          "text": [
            "['sohaib_user', 'hussnain_user', 'ali_user', 'sami_user']\n"
          ]
        }
      ],
      "source": [
        "def add_suffix(names):\n",
        "    for i in range(len(names)):\n",
        "        names[i] += \"_user\"\n",
        "\n",
        "users = [\"sohaib\", \"hussnain\", \"ali\", \"sami\"]\n",
        "add_suffix(users)\n",
        "print(users)\n"
      ]
    },
    {
      "cell_type": "code",
      "execution_count": 7,
      "id": "8d7825ad-bf9c-4350-b288-3e98d43852be",
      "metadata": {
        "trusted": true
      },
      "outputs": [
        {
          "name": "stdout",
          "output_type": "stream",
          "text": [
            "15\n"
          ]
        }
      ],
      "source": [
        "def sum_all(*numbers):\n",
        "    return sum(numbers)\n",
        "\n",
        "print(sum_all(3, 5, 7))\n"
      ]
    },
    {
      "cell_type": "code",
      "execution_count": 9,
      "id": "9151a77b-0e50-435e-80e8-005d544b0891",
      "metadata": {
        "trusted": true
      },
      "outputs": [
        {
          "name": "stdout",
          "output_type": "stream",
          "text": [
            "name: Sohaib Iqbal\n",
            "age: 20\n",
            "job: Software Engineer\n"
          ]
        }
      ],
      "source": [
        "def print_profile(**info):\n",
        "    for key, value in info.items():\n",
        "        print(f\"{key}: {value}\")\n",
        "\n",
        "print_profile(name=\"Sohaib Iqbal\", age=20, job=\"Software Engineer\")\n"
      ]
    },
    {
      "cell_type": "code",
      "execution_count": 10,
      "id": "b3641603-e467-4577-9a58-7f184b647a24",
      "metadata": {
        "trusted": true
      },
      "outputs": [
        {
          "name": "stdout",
          "output_type": "stream",
          "text": [
            "5\n",
            "4\n",
            "3\n",
            "2\n",
            "1\n"
          ]
        }
      ],
      "source": [
        "def countdown(start):\n",
        "    while start > 0:\n",
        "        print(start)\n",
        "        start -= 1\n",
        "\n",
        "countdown(5)\n"
      ]
    },
    {
      "cell_type": "code",
      "execution_count": null,
      "id": "86d10e6e-3d02-4128-9cf3-1c20214a7256",
      "metadata": {
        "trusted": true
      },
      "outputs": [],
      "source": []
    }
  ],
  "metadata": {
    "kernelspec": {
      "display_name": "Python 3",
      "language": "python",
      "name": "python3"
    },
    "language_info": {
      "codemirror_mode": {
        "name": "ipython",
        "version": 3
      },
      "file_extension": ".py",
      "mimetype": "text/x-python",
      "name": "python",
      "nbconvert_exporter": "python",
      "pygments_lexer": "ipython3",
      "version": "3.13.2"
    }
  },
  "nbformat": 4,
  "nbformat_minor": 5
}
